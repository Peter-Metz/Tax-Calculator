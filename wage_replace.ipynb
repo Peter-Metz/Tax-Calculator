{
 "cells": [
  {
   "cell_type": "code",
   "execution_count": 1,
   "metadata": {},
   "outputs": [],
   "source": [
    "from taxcalc import *\n",
    "import pandas as pd\n",
    "import numpy as np"
   ]
  },
  {
   "cell_type": "code",
   "execution_count": 2,
   "metadata": {},
   "outputs": [],
   "source": [
    "pol = Policy()\n",
    "rec = Records()\n",
    "calc = Calculator(pol, rec)\n",
    "calc.advance_to_year(2019)\n",
    "calc.calc_all()"
   ]
  },
  {
   "cell_type": "code",
   "execution_count": 3,
   "metadata": {},
   "outputs": [],
   "source": [
    "tc_vars = ['e00200', 'e00200p', 'e00200s', 's006']\n",
    "tc_df = calc.dataframe(tc_vars)\n",
    "# calculate 80% of primary/spouse earnings\n",
    "rebate_p_val = tc_df['e00200p'] * 0.8\n",
    "rebate_s_val = tc_df['e00200s'] * 0.8\n",
    "# ceiling = 80% of median annual wages (weekly median wage * 52) * 1.25\n",
    "ceiling = 0.8 * 1.25 * 50000\n",
    "# rebate is min(ceiling, 80% of earnings)\n",
    "tc_df['rebate_p'] = np.where(ceiling>rebate_p_val, rebate_p_val, ceiling)\n",
    "tc_df['rebate_s'] = np.where(ceiling>rebate_s_val, rebate_s_val, ceiling)"
   ]
  },
  {
   "cell_type": "code",
   "execution_count": 4,
   "metadata": {},
   "outputs": [
    {
     "data": {
      "text/plain": [
       "362.58"
      ]
     },
     "execution_count": 4,
     "metadata": {},
     "output_type": "execute_result"
    }
   ],
   "source": [
    "# rebate for primary earners in $B/month\n",
    "rebate_rev_p = (tc_df['rebate_p'] * tc_df['s006']).sum() / 1e9 / 12\n",
    "# rebate for spouse in $B/month\n",
    "rebate_rev_s = (tc_df['rebate_s'] * tc_df['s006']).sum() / 1e9 / 12\n",
    "round(rebate_rev_p + rebate_rev_s, 2)"
   ]
  }
 ],
 "metadata": {
  "kernelspec": {
   "display_name": "Python 3",
   "language": "python",
   "name": "python3"
  },
  "language_info": {
   "codemirror_mode": {
    "name": "ipython",
    "version": 3
   },
   "file_extension": ".py",
   "mimetype": "text/x-python",
   "name": "python",
   "nbconvert_exporter": "python",
   "pygments_lexer": "ipython3",
   "version": "3.6.9"
  }
 },
 "nbformat": 4,
 "nbformat_minor": 4
}
