{
 "cells": [
  {
   "cell_type": "code",
   "execution_count": 1,
   "metadata": {},
   "outputs": [],
   "source": [
    "import os\n",
    "import pandas as pd\n",
    "from taxcalc import *"
   ]
  },
  {
   "cell_type": "code",
   "execution_count": 2,
   "metadata": {},
   "outputs": [],
   "source": [
    "cp = os.path.abspath(os.path.dirname('file'))\n",
    "puf = os.path.join(cp, 'puf.csv')"
   ]
  },
  {
   "cell_type": "code",
   "execution_count": 3,
   "metadata": {},
   "outputs": [
    {
     "data": {
      "text/plain": [
       "count    2.485910e+05\n",
       "mean     7.851808e+03\n",
       "std      4.217011e+04\n",
       "min      0.000000e+00\n",
       "25%      0.000000e+00\n",
       "50%      0.000000e+00\n",
       "75%      6.810000e+03\n",
       "max      5.127000e+06\n",
       "Name: e19200, dtype: float64"
      ]
     },
     "execution_count": 3,
     "metadata": {},
     "output_type": "execute_result"
    }
   ],
   "source": [
    "puf_df = pd.read_csv(puf)\n",
    "puf_df['e19200'].describe()"
   ]
  },
  {
   "cell_type": "code",
   "execution_count": 4,
   "metadata": {},
   "outputs": [
    {
     "data": {
      "text/plain": [
       "count    2.485910e+05\n",
       "mean     1.785181e+04\n",
       "std      4.217011e+04\n",
       "min      1.000000e+04\n",
       "25%      1.000000e+04\n",
       "50%      1.000000e+04\n",
       "75%      1.681000e+04\n",
       "max      5.137000e+06\n",
       "Name: e19200, dtype: float64"
      ]
     },
     "execution_count": 4,
     "metadata": {},
     "output_type": "execute_result"
    }
   ],
   "source": [
    "puf_df_int = puf_df.copy()\n",
    "puf_df_int['e19200'] = puf_df['e19200'] + 10000\n",
    "puf_df_int['e19200'].describe()"
   ]
  },
  {
   "cell_type": "code",
   "execution_count": 5,
   "metadata": {},
   "outputs": [],
   "source": [
    "pol = Policy()\n",
    "recs_base = Records()\n",
    "calc_base = Calculator(pol, recs_base)\n",
    "calc_base.advance_to_year(2020)\n",
    "calc_base.calc_all()\n",
    "rev_base = calc_base.weighted_total('combined') / 1e9"
   ]
  },
  {
   "cell_type": "code",
   "execution_count": 6,
   "metadata": {},
   "outputs": [],
   "source": [
    "recs_interest = Records(data=puf_df_int)\n",
    "calc_int = Calculator(pol, recs_interest)\n",
    "calc_int.advance_to_year(2020)\n",
    "calc_int.calc_all()\n",
    "rev_int = calc_int.weighted_total('combined') / 1e9"
   ]
  },
  {
   "cell_type": "code",
   "execution_count": 7,
   "metadata": {},
   "outputs": [
    {
     "data": {
      "text/plain": [
       "75.18"
      ]
     },
     "execution_count": 7,
     "metadata": {},
     "output_type": "execute_result"
    }
   ],
   "source": [
    "round(rev_base - rev_int, 2)"
   ]
  },
  {
   "cell_type": "code",
   "execution_count": null,
   "metadata": {},
   "outputs": [],
   "source": []
  }
 ],
 "metadata": {
  "kernelspec": {
   "display_name": "Python 3",
   "language": "python",
   "name": "python3"
  },
  "language_info": {
   "codemirror_mode": {
    "name": "ipython",
    "version": 3
   },
   "file_extension": ".py",
   "mimetype": "text/x-python",
   "name": "python",
   "nbconvert_exporter": "python",
   "pygments_lexer": "ipython3",
   "version": "3.6.9"
  }
 },
 "nbformat": 4,
 "nbformat_minor": 4
}
