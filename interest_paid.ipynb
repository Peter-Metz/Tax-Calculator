{
 "cells": [
  {
   "cell_type": "code",
   "execution_count": 1,
   "metadata": {},
   "outputs": [],
   "source": [
    "import os\n",
    "import pandas as pd\n",
    "from taxcalc import *"
   ]
  },
  {
   "cell_type": "code",
   "execution_count": 2,
   "metadata": {},
   "outputs": [],
   "source": [
    "cp = os.path.abspath(os.path.dirname('file'))\n",
    "puf = os.path.join(cp, 'puf.csv')"
   ]
  },
  {
   "cell_type": "code",
   "execution_count": 3,
   "metadata": {},
   "outputs": [
    {
     "name": "stdout",
     "output_type": "stream",
     "text": [
      "Min: $0\n",
      "Max: $5,127,000\n",
      "Total: $44,638,262,275,286\n",
      "Mean: $2,729\n"
     ]
    }
   ],
   "source": [
    "puf_df = pd.read_csv(puf)\n",
    "total = round(sum(puf_df['e19200'] * puf_df['s006']))\n",
    "avg = round((sum(puf_df['e19200'] * puf_df['s006'])) / sum(puf_df['s006']))\n",
    "print('Min: ${:,}'.format(min(puf_df['e19200'])))\n",
    "print('Max: ${:,}'.format(max(puf_df['e19200'])))\n",
    "print('Total: ${:,}'.format(total))\n",
    "print('Mean: ${:,}'.format(avg))"
   ]
  },
  {
   "cell_type": "code",
   "execution_count": 4,
   "metadata": {},
   "outputs": [
    {
     "name": "stdout",
     "output_type": "stream",
     "text": [
      "Min: $10,000\n",
      "Max: $5,137,000\n",
      "Total: $208,188,437,105,286\n",
      "Mean: $12,729\n"
     ]
    }
   ],
   "source": [
    "puf_df_int = puf_df.copy()\n",
    "puf_df_int['e19200'] = puf_df['e19200'] + 10000\n",
    "total_int = round(sum(puf_df_int['e19200'] * puf_df_int['s006']))\n",
    "avg_int = round((sum(puf_df_int['e19200'] * puf_df_int['s006'])) / sum(puf_df_int['s006']))\n",
    "print('Min: ${:,}'.format(min(puf_df_int['e19200'])))\n",
    "print('Max: ${:,}'.format(max(puf_df_int['e19200'])))\n",
    "print('Total: ${:,}'.format(total_int))\n",
    "print('Mean: ${:,}'.format(avg_int))"
   ]
  },
  {
   "cell_type": "code",
   "execution_count": 5,
   "metadata": {},
   "outputs": [],
   "source": [
    "pol = Policy()\n",
    "recs_base = Records()\n",
    "calc_base = Calculator(pol, recs_base)\n",
    "calc_base.advance_to_year(2020)\n",
    "calc_base.calc_all()\n",
    "rev_base = calc_base.weighted_total('combined') / 1e9"
   ]
  },
  {
   "cell_type": "code",
   "execution_count": 6,
   "metadata": {},
   "outputs": [],
   "source": [
    "recs_interest = Records(data=puf_df_int)\n",
    "calc_int = Calculator(pol, recs_interest)\n",
    "calc_int.advance_to_year(2020)\n",
    "calc_int.calc_all()\n",
    "rev_int = calc_int.weighted_total('combined') / 1e9"
   ]
  },
  {
   "cell_type": "code",
   "execution_count": 7,
   "metadata": {},
   "outputs": [
    {
     "data": {
      "text/plain": [
       "75.18"
      ]
     },
     "execution_count": 7,
     "metadata": {},
     "output_type": "execute_result"
    }
   ],
   "source": [
    "round(rev_base - rev_int, 2)"
   ]
  },
  {
   "cell_type": "code",
   "execution_count": null,
   "metadata": {},
   "outputs": [],
   "source": []
  }
 ],
 "metadata": {
  "kernelspec": {
   "display_name": "Python 3",
   "language": "python",
   "name": "python3"
  },
  "language_info": {
   "codemirror_mode": {
    "name": "ipython",
    "version": 3
   },
   "file_extension": ".py",
   "mimetype": "text/x-python",
   "name": "python",
   "nbconvert_exporter": "python",
   "pygments_lexer": "ipython3",
   "version": "3.6.9"
  }
 },
 "nbformat": 4,
 "nbformat_minor": 4
}
