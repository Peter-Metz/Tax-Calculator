{
 "cells": [
  {
   "cell_type": "code",
   "execution_count": 1,
   "metadata": {},
   "outputs": [],
   "source": [
    "from taxcalc import *\n",
    "import pandas as pd\n",
    "import numpy as np\n",
    "from bokeh.io import show, output_notebook, output_file, save\n",
    "from bokeh.models import ColumnDataSource, NumeralTickFormatter, Span, HoverTool, Panel, Tabs, CustomJS, Title\n",
    "from bokeh.models.widgets import Dropdown, Select\n",
    "from bokeh.plotting import figure\n",
    "from bokeh.transform import dodge\n",
    "from bokeh.layouts import column, row, WidgetBox, layout"
   ]
  },
  {
   "cell_type": "code",
   "execution_count": 2,
   "metadata": {},
   "outputs": [],
   "source": [
    "recs = Records()\n",
    "pol = Policy()\n",
    "calc_base = Calculator(records=recs, policy=pol)"
   ]
  },
  {
   "cell_type": "code",
   "execution_count": 3,
   "metadata": {},
   "outputs": [],
   "source": [
    "calc_base.advance_to_year(2020)\n",
    "calc_base.calc_all()\n",
    "\n",
    "# eitc_base = calc.weighted_total('eitc')\n",
    "# ctc_base = calc.weighted_total('c07220') + calc.weighted_total('c11070')\n",
    "# eitc_base / 1e9"
   ]
  },
  {
   "cell_type": "code",
   "execution_count": 4,
   "metadata": {},
   "outputs": [
    {
     "data": {
      "text/plain": [
       "array([ 540.5 , 3604.35, 5952.74, 6697.35])"
      ]
     },
     "execution_count": 4,
     "metadata": {},
     "output_type": "execute_result"
    }
   ],
   "source": [
    "pol._EITC_c[7]"
   ]
  },
  {
   "cell_type": "code",
   "execution_count": 5,
   "metadata": {},
   "outputs": [],
   "source": [
    "ratio_1 = pol._EITC_c[7][1] / pol._EITC_c[7][0]\n",
    "ratio_2 = pol._EITC_c[7][2] / pol._EITC_c[7][0]\n",
    "ratio_3 = pol._EITC_c[7][3] / pol._EITC_c[7][0]"
   ]
  },
  {
   "cell_type": "code",
   "execution_count": 6,
   "metadata": {},
   "outputs": [
    {
     "name": "stdout",
     "output_type": "stream",
     "text": [
      "CTC_c was redefined in release 1.0.0\n",
      "\n"
     ]
    },
    {
     "data": {
      "text/plain": [
       "0.015336960344482422"
      ]
     },
     "execution_count": 6,
     "metadata": {},
     "output_type": "execute_result"
    }
   ],
   "source": [
    "# Replace all existing child tax credits with an expanded EITC on a budget neutral basis\n",
    "\n",
    "eitc = 1679\n",
    "pol_eitc = Policy()\n",
    "eitc_ref = {'EITC_c': {2020: [eitc, float(eitc * ratio_1), float(eitc * ratio_2), float(eitc * ratio_3)]},\n",
    "            'CTC_c': {2020: 0.0},\n",
    "            'ACTC_c': {2020: 0.0}}\n",
    "pol_eitc.implement_reform(eitc_ref)\n",
    "\n",
    "calc_eitc = Calculator(records=recs, policy=pol_eitc)\n",
    "calc_eitc.advance_to_year(2020)\n",
    "calc_eitc.calc_all()\n",
    "(calc_base.weighted_total('iitax') - calc_eitc.weighted_total('iitax')) / 1e9"
   ]
  },
  {
   "cell_type": "code",
   "execution_count": 7,
   "metadata": {},
   "outputs": [
    {
     "data": {
      "text/plain": [
       "(1679, 11196.491489361702, 18491.490212765955, 20804.534042553194)"
      ]
     },
     "execution_count": 7,
     "metadata": {},
     "output_type": "execute_result"
    }
   ],
   "source": [
    "eitc, float(eitc * ratio_1), float(eitc * ratio_2), float(eitc * ratio_3)"
   ]
  },
  {
   "cell_type": "code",
   "execution_count": 8,
   "metadata": {},
   "outputs": [
    {
     "name": "stdout",
     "output_type": "stream",
     "text": [
      "CTC_c was redefined in release 1.0.0\n",
      "\n"
     ]
    },
    {
     "data": {
      "text/plain": [
       "0.031319975778564456"
      ]
     },
     "execution_count": 8,
     "metadata": {},
     "output_type": "execute_result"
    }
   ],
   "source": [
    "# Replace EITC with a fully refundable CTC (to do this, eliminate the existing CTC and ACTC completely and use \"new refundable child tax credit\").\n",
    "\n",
    "ctc_new = 2695\n",
    "pol_ctc_refund = Policy()\n",
    "ctc_refund = {'EITC_c': {2020: [0,0,0,0]},\n",
    "            'CTC_c': {2020: 0.0},\n",
    "            'ACTC_c': {2020: 0.0},\n",
    "            'CTC_new_c': {2020: ctc_new},\n",
    "            'CTC_new_ps': {2020: [200000.0, 400000.0, 200000.0, 200000.0, 400000.0]},\n",
    "            'CTC_new_prt': {2020: 0.05},\n",
    "            'CTC_new_for_all': {2020: True}\n",
    "           }\n",
    "pol_ctc_refund.implement_reform(ctc_refund)\n",
    "\n",
    "calc_ctc_refund = Calculator(records=recs, policy=pol_ctc_refund)\n",
    "calc_ctc_refund.advance_to_year(2020)\n",
    "calc_ctc_refund.calc_all()\n",
    "(calc_base.weighted_total('iitax') - calc_ctc_refund.weighted_total('iitax')) / 1e9"
   ]
  },
  {
   "cell_type": "code",
   "execution_count": 9,
   "metadata": {},
   "outputs": [
    {
     "name": "stdout",
     "output_type": "stream",
     "text": [
      "CTC_c was redefined in release 1.0.0\n",
      "\n"
     ]
    },
    {
     "data": {
      "text/plain": [
       "-0.0005017335256347656"
      ]
     },
     "execution_count": 9,
     "metadata": {},
     "output_type": "execute_result"
    }
   ],
   "source": [
    "# Replace EITC with a CTC refundable up to the payroll tax.\n",
    "\n",
    "ctc_fica_amt = 3292\n",
    "pol_ctc_fica = Policy()\n",
    "ctc_fica = {'EITC_c': {2020: [0,0,0,0]},\n",
    "            'CTC_c': {2020: 0.0},\n",
    "            'ACTC_c': {2020: 0.0},\n",
    "            'CTC_new_c': {2020: ctc_fica_amt},\n",
    "            'CTC_new_ps': {2020: [200000.0, 400000.0, 200000.0, 200000.0, 400000.0]},\n",
    "            'CTC_new_prt': {2020: 0.05},\n",
    "            'CTC_new_for_all': {2020: True},\n",
    "            'CTC_new_refund_limited': {2020: True},\n",
    "            'CTC_new_refund_limit_payroll_rt': {2020: 1.0},\n",
    "            'CTC_new_refund_limited_all_payroll': {2020: True}\n",
    "           }\n",
    "pol_ctc_fica.implement_reform(ctc_fica)\n",
    "\n",
    "calc_ctc_fica = Calculator(records=recs, policy=pol_ctc_fica)\n",
    "calc_ctc_fica.advance_to_year(2020)\n",
    "calc_ctc_fica.calc_all()\n",
    "(calc_base.weighted_total('iitax') - calc_ctc_fica.weighted_total('iitax')) / 1e9"
   ]
  },
  {
   "cell_type": "code",
   "execution_count": 10,
   "metadata": {},
   "outputs": [
    {
     "name": "stdout",
     "output_type": "stream",
     "text": [
      "CTC_c was redefined in release 1.0.0\n",
      "\n"
     ]
    },
    {
     "data": {
      "text/plain": [
       "0.0010630128818359375"
      ]
     },
     "execution_count": 10,
     "metadata": {},
     "output_type": "execute_result"
    }
   ],
   "source": [
    "# Replace EITC with a non-refundable CTC.\n",
    "\n",
    "ctc_nonrefund = 7114\n",
    "pol_ctc = Policy()\n",
    "ctc_nf = {'EITC_c': {2020: [0,0,0,0]},\n",
    "           'CTC_c': {2020: ctc_nonrefund},\n",
    "           'ACTC_c': {2020: 0}}\n",
    "pol_ctc.implement_reform(ctc_nf)\n",
    "calc_ctc_nonrefund = Calculator(records=recs, policy=pol_ctc)\n",
    "calc_ctc_nonrefund.advance_to_year(2020)\n",
    "calc_ctc_nonrefund.calc_all()\n",
    "(calc_base.weighted_total('iitax') - calc_ctc_nonrefund.weighted_total('iitax')) / 1e9"
   ]
  },
  {
   "cell_type": "code",
   "execution_count": 11,
   "metadata": {},
   "outputs": [],
   "source": [
    "# create subsetted datasets by marital status and num dependents\n",
    "\n",
    "VARS = ['MARS', 'n24', 'expanded_income', 'c00100', 'aftertax_income',\n",
    "        'iitax', 'payrolltax', 'combined', 's006', 'XTOT',\n",
    "        'ubi', 'benefit_cost_total', 'benefit_value_total']\n",
    "\n",
    "BINS = ['$<10K', '$10-20K', '$20-30K', '$30-40K', '$40-50K',\n",
    "       '$50-75K', '$75-100K', '$100-200K', '$200-500K', '>$500K', 'ALL']\n",
    "\n",
    "def make_data(calc, mars, deps):\n",
    "    df_reform = calc.dataframe(VARS)\n",
    "    df_base = calc_base.dataframe(VARS)\n",
    "\n",
    "    if mars =='all' and deps=='all':\n",
    "        df_filter_reform = df_reform\n",
    "        df_filter_base = df_base\n",
    "    elif mars == 'all' and deps is not 'all':\n",
    "        df_filter_reform = df_reform.loc[(df_reform['n24'] == deps)]\n",
    "        df_filter_base = df_base.loc[(df_reform['n24'] == deps)]\n",
    "    elif deps == 'all' and mars is not 'all':\n",
    "        df_filter_reform = df_reform.loc[(df_reform['MARS'] == mars)]\n",
    "        df_filter_base = df_base.loc[(df_reform['MARS'] == mars)]\n",
    "    else:\n",
    "        df_filter_reform = df_reform.loc[(df_reform['MARS'] == mars) & (df_reform['n24'] == deps)]\n",
    "        df_filter_base = df_base.loc[(df_base['MARS'] == mars) & (df_base['n24'] == deps)]\n",
    "    \n",
    "    diff_table = create_difference_table(df_filter_base, df_filter_reform, 'custom_income_bins', 'iitax')\n",
    "    diff = pd.DataFrame()\n",
    "    diff['count'] = diff_table['count']\n",
    "    diff['perc_inc'] = diff_table['perc_inc'] / 100\n",
    "    diff['perc_cut'] = diff_table['perc_cut'] / 100\n",
    "    diff['mean'] = diff_table['mean']\n",
    "    diff['pc_aftertaxinc'] = diff_table['pc_aftertaxinc'] / 100\n",
    "    diff['bins'] = BINS\n",
    "    return ColumnDataSource(diff)"
   ]
  },
  {
   "cell_type": "code",
   "execution_count": 12,
   "metadata": {},
   "outputs": [],
   "source": [
    "ref1_mar_all = make_data(calc_eitc, 2, 'all')\n",
    "ref1_sin_all = make_data(calc_eitc, 1, 'all')\n",
    "ref1_all_all = make_data(calc_eitc, 'all', 'all')\n",
    "ref1_all_0 = make_data(calc_eitc, 'all', 0)\n",
    "ref1_all_1 = make_data(calc_eitc, 'all', 1)\n",
    "ref1_all_2 = make_data(calc_eitc, 'all', 2)\n",
    "ref1_all_3 = make_data(calc_eitc, 'all', 3)\n",
    "\n",
    "ref2_mar_all = make_data(calc_ctc_refund, 2, 'all')\n",
    "ref2_sin_all = make_data(calc_ctc_refund, 1, 'all')\n",
    "ref2_all_all = make_data(calc_ctc_refund, 'all', 'all')\n",
    "ref2_all_0 = make_data(calc_ctc_refund, 'all', 0)\n",
    "ref2_all_1 = make_data(calc_ctc_refund, 'all', 1)\n",
    "ref2_all_2 = make_data(calc_ctc_refund, 'all', 2)\n",
    "ref2_all_3 = make_data(calc_ctc_refund, 'all', 3)\n",
    "\n",
    "ref3_mar_all = make_data(calc_ctc_fica, 2, 'all')\n",
    "ref3_sin_all = make_data(calc_ctc_fica, 1, 'all')\n",
    "ref3_all_all = make_data(calc_ctc_fica, 'all', 'all')\n",
    "ref3_all_0 = make_data(calc_ctc_fica, 'all', 0)\n",
    "ref3_all_1 = make_data(calc_ctc_fica, 'all', 1)\n",
    "ref3_all_2 = make_data(calc_ctc_fica, 'all', 2)\n",
    "ref3_all_3 = make_data(calc_ctc_fica, 'all', 3)\n",
    "\n",
    "ref4_mar_all = make_data(calc_ctc_nonrefund, 2, 'all')\n",
    "ref4_sin_all = make_data(calc_ctc_nonrefund, 1, 'all')\n",
    "ref4_all_all = make_data(calc_ctc_nonrefund, 'all', 'all')\n",
    "ref4_all_0 = make_data(calc_ctc_nonrefund, 'all', 0)\n",
    "ref4_all_1 = make_data(calc_ctc_nonrefund, 'all', 1)\n",
    "ref4_all_2 = make_data(calc_ctc_nonrefund, 'all', 2)\n",
    "ref4_all_3 = make_data(calc_ctc_nonrefund, 'all', 3)"
   ]
  },
  {
   "cell_type": "code",
   "execution_count": 13,
   "metadata": {},
   "outputs": [],
   "source": [
    "# output_notebook()\n",
    "\n",
    "bins_graph = ['$<10K', '$10-20K', '$20-30K', '$30-40K', '$40-50K',\n",
    "       '$50-75K', '$75-100K', '$100-200K', '$200-500K', '>$500K']"
   ]
  },
  {
   "cell_type": "code",
   "execution_count": 14,
   "metadata": {},
   "outputs": [],
   "source": [
    "# def pc_change(src, title):\n",
    "#     p = figure(x_range=bins_graph, plot_height=300, plot_width=750, tools=\"\", title=title)\n",
    "#     p.vbar(x='bins', top='mean', width=0.5, source=src, color='#ff7f0e', alpha=0.7)\n",
    "    \n",
    "#     hline = Span(location=0, dimension='width', line_color='gray')\n",
    "#     p.renderers.extend([hline])\n",
    "\n",
    "#     p.yaxis.formatter = NumeralTickFormatter(format='$0,000')\n",
    "#     p.yaxis.axis_label = 'Mean Tax Increase (Cut)'\n",
    "#     p.xaxis.axis_label = 'AGI Bin'\n",
    "#     p.xgrid.grid_line_color = None\n",
    "#     p.yaxis.minor_tick_line_color = None\n",
    "\n",
    "#     hover = HoverTool(tooltips='@mean{$0,000}')\n",
    "#     p.add_tools(hover)\n",
    "#     return p"
   ]
  },
  {
   "cell_type": "code",
   "execution_count": 15,
   "metadata": {},
   "outputs": [],
   "source": [
    "# title1 = \"Replace all existing child tax credits with an expanded EITC on a budget neutral basis\"\n",
    "# ref1_all_deps = Panel(child=pc_change(ref1_all_all, title1), title=\"All Units\")\n",
    "# ref1_sin = Panel(child=pc_change(ref1_sin_all, title1), title=\"Single\")\n",
    "# ref1_mar = Panel(child=pc_change(ref1_mar_all, title1), title=\"Married\")\n",
    "# ref1_0 = Panel(child=pc_change(ref1_all_0, title1), title=\"0 Kids\")\n",
    "# ref1_1 = Panel(child=pc_change(ref1_all_1, title1), title=\"1 Kid\")\n",
    "# ref1_2 = Panel(child=pc_change(ref1_all_2, title1), title=\"2 Kids\")\n",
    "# ref1_3 = Panel(child=pc_change(ref1_all_3, title1), title=\"3 Kids\")\n",
    "\n",
    "# ref1_tabs = Tabs(tabs=[ref1_all_deps, ref1_sin, ref1_mar, ref1_0, ref1_1, ref1_2, ref1_3])\n",
    "# show(ref1_tabs)\n",
    "\n",
    "# output_file('reform1.html')\n",
    "# save(ref1_tabs)"
   ]
  },
  {
   "cell_type": "code",
   "execution_count": 16,
   "metadata": {},
   "outputs": [],
   "source": [
    "# title2 = \"Replace EITC with a fully refundable CTC\"\n",
    "# ref2_all_deps = Panel(child=pc_change(ref2_all_all, title2), title=\"All Units\")\n",
    "# ref2_sin = Panel(child=pc_change(ref2_sin_all, title2), title=\"Single\")\n",
    "# ref2_mar = Panel(child=pc_change(ref2_mar_all, title2), title=\"Married\")\n",
    "# ref2_0 = Panel(child=pc_change(ref2_all_0, title2), title=\"0 Kids\")\n",
    "# ref2_1 = Panel(child=pc_change(ref2_all_1, title2), title=\"1 Kid\")\n",
    "# ref2_2 = Panel(child=pc_change(ref2_all_2, title2), title=\"2 Kids\")\n",
    "# ref2_3 = Panel(child=pc_change(ref2_all_3, title2), title=\"3 Kids\")\n",
    "\n",
    "# ref2_tabs = Tabs(tabs=[ref2_all_deps, ref2_sin, ref2_mar, ref2_0, ref2_1, ref2_2, ref2_3])\n",
    "# show(ref2_tabs)\n",
    "# output_file('reform2.html')\n",
    "# save(ref2_tabs)"
   ]
  },
  {
   "cell_type": "code",
   "execution_count": 17,
   "metadata": {},
   "outputs": [],
   "source": [
    "# title3 = \"Replace EITC with a CTC refundable up to the payroll tax\"\n",
    "# ref3_all_deps = Panel(child=pc_change(ref3_all_all, title3), title=\"All Units\")\n",
    "# ref3_sin = Panel(child=pc_change(ref3_sin_all, title3), title=\"Single\")\n",
    "# ref3_mar = Panel(child=pc_change(ref3_mar_all, title3), title=\"Married\")\n",
    "# ref3_0 = Panel(child=pc_change(ref3_all_0, title3), title=\"0 Kids\")\n",
    "# ref3_1 = Panel(child=pc_change(ref3_all_1, title3), title=\"1 Kid\")\n",
    "# ref3_2 = Panel(child=pc_change(ref3_all_2, title3), title=\"2 Kids\")\n",
    "# ref3_3 = Panel(child=pc_change(ref3_all_3, title3), title=\"3 Kids\")\n",
    "\n",
    "# ref3_tabs = Tabs(tabs=[ref3_all_deps, ref3_sin, ref3_mar, ref3_0, ref3_1, ref3_2, ref3_3])\n",
    "# show(ref3_tabs)\n",
    "\n",
    "# output_file('reform3.html')\n",
    "# save(ref3_tabs)"
   ]
  },
  {
   "cell_type": "code",
   "execution_count": 18,
   "metadata": {},
   "outputs": [],
   "source": [
    "# title4 = \"Replace EITC with a non-refundable CTC\"\n",
    "# ref4_all_deps = Panel(child=pc_change(ref4_all_all, title4), title=\"All Units\")\n",
    "# ref4_sin = Panel(child=pc_change(ref4_sin_all, title4), title=\"Single\")\n",
    "# ref4_mar = Panel(child=pc_change(ref4_mar_all, title4), title=\"Married\")\n",
    "# ref4_0 = Panel(child=pc_change(ref4_all_0, title4), title=\"0 Kids\")\n",
    "# ref4_1 = Panel(child=pc_change(ref4_all_1, title4), title=\"1 Kid\")\n",
    "# ref4_2 = Panel(child=pc_change(ref4_all_2, title4), title=\"2 Kids\")\n",
    "# ref4_3 = Panel(child=pc_change(ref4_all_3, title4), title=\"3 Kids\")\n",
    "\n",
    "# ref4_tabs = Tabs(tabs=[ref4_all_deps, ref4_sin, ref4_mar, ref4_0, ref4_1, ref4_2, ref4_3])\n",
    "# show(ref4_tabs)\n",
    "\n",
    "# output_file('reform4.html')\n",
    "# save(ref4_tabs)"
   ]
  },
  {
   "cell_type": "code",
   "execution_count": 19,
   "metadata": {},
   "outputs": [],
   "source": [
    "def mean_change_drop(src1, src2, src3, src4):\n",
    "    p = figure(x_range=bins_graph, plot_height=300, plot_width=750, tools=\"\", title=\" \")\n",
    "    ref1 = p.vbar(x='bins', top='mean', width=0.5, source=src1, color='#ff7f0e', alpha=0.7)\n",
    "    ref2 = p.vbar(x='bins', top='mean', width=0.5, source=src2, color='#ff7f0e', alpha=0.7)\n",
    "    ref3 = p.vbar(x='bins', top='mean', width=0.5, source=src3, color='#ff7f0e', alpha=0.7)\n",
    "    ref4 = p.vbar(x='bins', top='mean', width=0.5, source=src4, color='#ff7f0e', alpha=0.7)\n",
    "    \n",
    "    ref1.visible = False\n",
    "    ref2.visible = False\n",
    "    ref3.visible = False\n",
    "    ref4.visible = False\n",
    "    \n",
    "    hline = Span(location=0, dimension='width', line_color='gray')\n",
    "    p.renderers.extend([hline])\n",
    "\n",
    "    p.yaxis.formatter = NumeralTickFormatter(format='$0,000')\n",
    "    p.yaxis.axis_label = 'Mean Tax Increase (Cut)'\n",
    "    p.xaxis.axis_label = 'AGI Bin'\n",
    "    p.xgrid.grid_line_color = None\n",
    "    p.yaxis.minor_tick_line_color = None\n",
    "    \n",
    "    hover = HoverTool(tooltips='@mean{$0,000}')\n",
    "    p.add_tools(hover)\n",
    "    \n",
    "    plot_js = \"\"\"\n",
    "    if (select.value == 'ref1') {\n",
    "        p.title.text = 'Replace all existing child tax credits with an expanded EITC on a budget neutral basis';\n",
    "        obj1.visible = true;\n",
    "        obj2.visible = false;\n",
    "        obj3.visible = false;\n",
    "        obj4.visible = false;\n",
    "    } else if (select.value == 'ref2') {\n",
    "        p.title.text = 'Replace EITC with a fully refundable CTC';\n",
    "        obj1.visible = false;\n",
    "        obj2.visible = true;\n",
    "        obj3.visible = false;\n",
    "        obj4.visible = false;\n",
    "    } else if (select.value == 'ref3') {\n",
    "        p.title.text = 'Replace EITC with a CTC refundable up to the payroll tax';\n",
    "        obj1.visible = false;\n",
    "        obj2.visible = false;\n",
    "        obj3.visible = true;\n",
    "        obj4.visible = false;\n",
    "    } else if (select.value == 'ref4') {\n",
    "        p.title.text = 'Replace EITC with a non-refundable CTC';\n",
    "        obj1.visible = false;\n",
    "        obj2.visible = false;\n",
    "        obj3.visible = false;\n",
    "        obj4.visible = true;\n",
    "    }\n",
    "    else if (select.value == 'none') {\n",
    "        p.title.text = '';\n",
    "        obj1.visible = false;\n",
    "        obj2.visible = false;\n",
    "        obj3.visible = false;\n",
    "        obj4.visible = false;\n",
    "    }\n",
    "    \"\"\"\n",
    "    \n",
    "    select = Select(title=\"\", value=\"none\", options=[(\"none\", \"Choose Reform\"), (\"ref1\", \"Reform A\"), (\"ref2\", \"Reform B\"), (\"ref3\", \"Reform C\"), (\"ref4\", \"Reform D\")])\n",
    "    callback = CustomJS(code=plot_js, args={\"p\": p, \"select\": select, \"obj1\": ref1, \"obj2\": ref2, \"obj3\": ref3, \"obj4\": ref4})\n",
    "    select.js_on_change('value', callback)\n",
    "    layout = column(p, select)\n",
    "    return layout\n",
    "\n",
    "# all_mstat = Panel(child=mean_change_drop(ref1_all_all, ref2_all_all, ref3_all_all, ref4_all_all), title=\"All Units\")\n",
    "# single = Panel(child=mean_change_drop(ref1_sin_all, ref2_sin_all, ref3_sin_all, ref4_sin_all), title=\"Single\")\n",
    "# joint = Panel(child=mean_change_drop(ref1_mar_all, ref2_mar_all, ref3_mar_all, ref4_mar_all), title=\"Married\")\n",
    "\n",
    "# mstat_tabs = Tabs(tabs=[all_mstat, single, joint])\n",
    "\n",
    "# # show(mstat_tabs)\n",
    "# output_file('mstat.html')\n",
    "# save(mstat_tabs)"
   ]
  },
  {
   "cell_type": "code",
   "execution_count": 20,
   "metadata": {},
   "outputs": [
    {
     "data": {
      "text/plain": [
       "'/Users/petermetz/Tax-Calculator/deps.html'"
      ]
     },
     "execution_count": 20,
     "metadata": {},
     "output_type": "execute_result"
    }
   ],
   "source": [
    "all_deps = Panel(child=mean_change_drop(ref1_all_all, ref2_all_all, ref3_all_all, ref4_all_all), title=\"All Units\")\n",
    "deps_0 = Panel(child=mean_change_drop(ref1_all_0, ref2_all_0, ref3_all_0, ref4_all_0), title=\"No Kids\")\n",
    "deps_1 = Panel(child=mean_change_drop(ref1_all_1, ref2_all_1, ref3_all_1, ref4_all_1), title=\"1 Kid\")\n",
    "deps_2 = Panel(child=mean_change_drop(ref1_all_2, ref2_all_2, ref3_all_2, ref4_all_2), title=\"2 Kids\")\n",
    "deps_3 = Panel(child=mean_change_drop(ref1_all_3, ref2_all_3, ref3_all_3, ref4_all_3), title=\"3 Kids\")\n",
    "\n",
    "deps_tabs = Tabs(tabs=[all_deps, deps_0, deps_1, deps_2, deps_3])\n",
    "\n",
    "# show(deps_tabs)\n",
    "output_file('deps.html')\n",
    "save(deps_tabs)"
   ]
  },
  {
   "cell_type": "code",
   "execution_count": null,
   "metadata": {},
   "outputs": [],
   "source": []
  }
 ],
 "metadata": {
  "kernelspec": {
   "display_name": "Python 3",
   "language": "python",
   "name": "python3"
  },
  "language_info": {
   "codemirror_mode": {
    "name": "ipython",
    "version": 3
   },
   "file_extension": ".py",
   "mimetype": "text/x-python",
   "name": "python",
   "nbconvert_exporter": "python",
   "pygments_lexer": "ipython3",
   "version": "3.6.9"
  }
 },
 "nbformat": 4,
 "nbformat_minor": 2
}
