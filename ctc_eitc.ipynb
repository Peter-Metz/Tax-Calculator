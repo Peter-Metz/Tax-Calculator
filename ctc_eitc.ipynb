{
 "cells": [
  {
   "cell_type": "code",
   "execution_count": 1,
   "metadata": {},
   "outputs": [],
   "source": [
    "from taxcalc import *\n",
    "import pandas as pd\n",
    "import numpy as np\n",
    "from bokeh.io import show, output_notebook, output_file, save\n",
    "from bokeh.models import ColumnDataSource, NumeralTickFormatter, Span, HoverTool, Panel, Tabs\n",
    "from bokeh.plotting import figure"
   ]
  },
  {
   "cell_type": "code",
   "execution_count": 2,
   "metadata": {},
   "outputs": [],
   "source": [
    "recs = Records()\n",
    "pol = Policy()\n",
    "calc = Calculator(records=recs, policy=pol)"
   ]
  },
  {
   "cell_type": "code",
   "execution_count": 3,
   "metadata": {},
   "outputs": [],
   "source": [
    "calc.advance_to_year(2020)\n",
    "calc.calc_all()\n",
    "\n",
    "# eitc_base = calc.weighted_total('eitc')\n",
    "# ctc_base = calc.weighted_total('c07220') + calc.weighted_total('c11070')\n",
    "# eitc_base / 1e9"
   ]
  },
  {
   "cell_type": "code",
   "execution_count": 4,
   "metadata": {},
   "outputs": [
    {
     "data": {
      "text/plain": [
       "array([ 540.5 , 3604.35, 5952.74, 6697.35])"
      ]
     },
     "execution_count": 4,
     "metadata": {},
     "output_type": "execute_result"
    }
   ],
   "source": [
    "pol._EITC_c[7]"
   ]
  },
  {
   "cell_type": "code",
   "execution_count": 5,
   "metadata": {},
   "outputs": [],
   "source": [
    "ratio_1 = pol._EITC_c[7][1] / pol._EITC_c[7][0]\n",
    "ratio_2 = pol._EITC_c[7][2] / pol._EITC_c[7][0]\n",
    "ratio_3 = pol._EITC_c[7][3] / pol._EITC_c[7][0]"
   ]
  },
  {
   "cell_type": "code",
   "execution_count": 6,
   "metadata": {},
   "outputs": [
    {
     "name": "stdout",
     "output_type": "stream",
     "text": [
      "CTC_c was redefined in release 1.0.0\n",
      "\n"
     ]
    },
    {
     "data": {
      "text/plain": [
       "0.015336960344482422"
      ]
     },
     "execution_count": 6,
     "metadata": {},
     "output_type": "execute_result"
    }
   ],
   "source": [
    "eitc = 1679\n",
    "pol_eitc = Policy()\n",
    "eitc_ref = {'EITC_c': {2020: [eitc, float(eitc * ratio_1), float(eitc * ratio_2), float(eitc * ratio_3)]},\n",
    "            'CTC_c': {2020: 0.0},\n",
    "            'ACTC_c': {2020: 0.0}}\n",
    "pol_eitc.implement_reform(eitc_ref)\n",
    "\n",
    "calc_eitc = Calculator(records=recs, policy=pol_eitc)\n",
    "calc_eitc.advance_to_year(2020)\n",
    "calc_eitc.calc_all()\n",
    "(calc.weighted_total('iitax') - calc_eitc.weighted_total('iitax')) / 1e9"
   ]
  },
  {
   "cell_type": "code",
   "execution_count": 7,
   "metadata": {},
   "outputs": [
    {
     "name": "stdout",
     "output_type": "stream",
     "text": [
      "CTC_c was redefined in release 1.0.0\n",
      "\n"
     ]
    },
    {
     "data": {
      "text/plain": [
       "0.027294808671386717"
      ]
     },
     "execution_count": 7,
     "metadata": {},
     "output_type": "execute_result"
    }
   ],
   "source": [
    "ctc = 3460\n",
    "pol_ctc = Policy()\n",
    "pol_ref = {'EITC_c': {2020: [0,0,0,0]},\n",
    "           'CTC_c': {2020: ctc},\n",
    "           'ACTC_c': {2020: ctc}}\n",
    "pol_ctc.implement_reform(pol_ref)\n",
    "calc_ctc = Calculator(records=recs, policy=pol_ctc)\n",
    "calc_ctc.advance_to_year(2020)\n",
    "calc_ctc.calc_all()\n",
    "(calc.weighted_total('iitax') - calc_ctc.weighted_total('iitax')) / 1e9"
   ]
  },
  {
   "cell_type": "code",
   "execution_count": 8,
   "metadata": {},
   "outputs": [],
   "source": [
    "bins = ['<$0K', '=$0K', '$0-10K', '$10-20K', '$20-30K', '$30-40K', '$40-50K',\n",
    "       '$50-75K', '$75-100K', '$100-200K', '$200-500K', '$500-1000K',\n",
    "       '>$1000K', 'ALL']\n",
    "\n",
    "diff_table_eitc = calc.difference_table(calc_eitc, 'standard_income_bins', 'iitax')\n",
    "diff_eitc = pd.DataFrame()\n",
    "diff_eitc['count'] = diff_table_eitc['count'] / 100\n",
    "diff_eitc['perc_inc'] = diff_table_eitc['perc_inc'] / 100\n",
    "diff_eitc['perc_cut'] = diff_table_eitc['perc_cut'] / 100\n",
    "diff_eitc['mean'] = diff_table_eitc['mean']\n",
    "diff_eitc['pc_aftertaxinc'] = diff_table_eitc['pc_aftertaxinc'] / 100\n",
    "diff_eitc['bins'] = bins"
   ]
  },
  {
   "cell_type": "code",
   "execution_count": 9,
   "metadata": {},
   "outputs": [],
   "source": [
    "bins = ['<$0K', '=$0K', '$0-10K', '$10-20K', '$20-30K', '$30-40K', '$40-50K',\n",
    "       '$50-75K', '$75-100K', '$100-200K', '$200-500K', '$500-1000K',\n",
    "       '>$1000K', 'ALL']\n",
    "\n",
    "diff_table_ctc = calc.difference_table(calc_ctc, 'standard_income_bins', 'iitax')\n",
    "diff_ctc = pd.DataFrame()\n",
    "diff_ctc['count'] = diff_table_ctc['count'] / 100\n",
    "diff_ctc['perc_inc'] = diff_table_ctc['perc_inc'] / 100\n",
    "diff_ctc['perc_cut'] = diff_table_ctc['perc_cut'] / 100\n",
    "diff_ctc['mean'] = diff_table_ctc['mean']\n",
    "diff_ctc['pc_aftertaxinc'] = diff_table_ctc['pc_aftertaxinc'] / 100\n",
    "diff_ctc['bins'] = bins"
   ]
  },
  {
   "cell_type": "code",
   "execution_count": 10,
   "metadata": {},
   "outputs": [],
   "source": [
    "# output_notebook()\n",
    "\n",
    "src_eitc = ColumnDataSource(diff_eitc)\n",
    "src_ctc = ColumnDataSource(diff_ctc)\n",
    "\n",
    "bins_graph = ['$0-10K', '$10-20K', '$20-30K', '$30-40K', '$40-50K',\n",
    "       '$50-75K', '$75-100K', '$100-200K', '$200-500K', '$500-1000K',\n",
    "       '>$1000K']"
   ]
  },
  {
   "cell_type": "code",
   "execution_count": 11,
   "metadata": {},
   "outputs": [],
   "source": [
    "def mean_fig(src, title):\n",
    "    p = figure(x_range=bins_graph, plot_height=300, plot_width=750, tools=\"\", title=title)\n",
    "    p.vbar(x='bins', top='mean', width=0.5, source=src, color='#ff7f0e', alpha=0.7)\n",
    "\n",
    "    hline = Span(location=0, dimension='width', line_color='gray')\n",
    "    p.renderers.extend([hline])\n",
    "\n",
    "    p.yaxis.formatter = NumeralTickFormatter(format='$0,000')\n",
    "    p.yaxis.axis_label = 'Mean Tax Change'\n",
    "    p.xaxis.axis_label = 'Income Bin'\n",
    "    p.xgrid.grid_line_color = None\n",
    "    p.yaxis.minor_tick_line_color = None\n",
    "\n",
    "    hover = HoverTool(tooltips='@mean{$0,000}')\n",
    "    p.add_tools(hover)\n",
    "    return p"
   ]
  },
  {
   "cell_type": "code",
   "execution_count": 12,
   "metadata": {},
   "outputs": [],
   "source": [
    "def pc_change(src, title):\n",
    "    p = figure(x_range=bins_graph, plot_height=300, plot_width=750, tools=\"\", title=title)\n",
    "    p.vbar(x='bins', top='pc_aftertaxinc', width=0.5, source=src, color='#ff7f0e', alpha=0.7)\n",
    "\n",
    "    hline = Span(location=0, dimension='width', line_color='gray')\n",
    "    p.renderers.extend([hline])\n",
    "\n",
    "    p.yaxis.formatter = NumeralTickFormatter(format='%0.0')\n",
    "    p.yaxis.axis_label = 'After-Tax Percent Change'\n",
    "    p.xaxis.axis_label = 'Income Bin'\n",
    "    p.xgrid.grid_line_color = None\n",
    "    p.yaxis.minor_tick_line_color = None\n",
    "\n",
    "    hover = HoverTool(tooltips='@pc_aftertaxinc{%0.0}')\n",
    "    p.add_tools(hover)\n",
    "    return p"
   ]
  },
  {
   "cell_type": "code",
   "execution_count": 13,
   "metadata": {},
   "outputs": [
    {
     "data": {
      "text/plain": [
       "'/Users/petermetz/Tax-Calculator/EITC_chart.html'"
      ]
     },
     "execution_count": 13,
     "metadata": {},
     "output_type": "execute_result"
    }
   ],
   "source": [
    "mean_eitc = mean_fig(src_eitc, \"Effects of Replacing CTC With Expanded EITC\")\n",
    "pc_eitc = pc_change(src_eitc, \"Effects of Replacing CTC With Expanded EITC\")\n",
    "\n",
    "eitc1 = Panel(child=mean_eitc, title=\"Mean Tax Change\")\n",
    "eitc2 = Panel(child=pc_eitc, title=\"After-Tax Percent Change\")\n",
    "tabs_eitc = Tabs(tabs=[eitc1, eitc2])\n",
    "\n",
    "output_file('EITC_chart.html')\n",
    "save(tabs_eitc)\n",
    "# show(tabs_eitc)"
   ]
  },
  {
   "cell_type": "code",
   "execution_count": 14,
   "metadata": {},
   "outputs": [
    {
     "data": {
      "text/plain": [
       "'/Users/petermetz/Tax-Calculator/CTC_chart.html'"
      ]
     },
     "execution_count": 14,
     "metadata": {},
     "output_type": "execute_result"
    }
   ],
   "source": [
    "mean_ctc = mean_fig(src_ctc, \"Effects of Replacing EITC With Expanded CTC\")\n",
    "pc_ctc = pc_change(src_ctc, \"Effects of Replacing EITC With Expanded CTC\")\n",
    "\n",
    "ctc1 = Panel(child=mean_ctc, title=\"Mean Tax Change\")\n",
    "ctc2 = Panel(child=pc_ctc, title=\"After-Tax Percent Change\")\n",
    "tabs_ctc = Tabs(tabs=[ctc1, ctc2])\n",
    "\n",
    "output_file('CTC_chart.html')\n",
    "save(tabs_ctc)\n",
    "# show(tabs_ctc)"
   ]
  }
 ],
 "metadata": {
  "kernelspec": {
   "display_name": "Python 3",
   "language": "python",
   "name": "python3"
  },
  "language_info": {
   "codemirror_mode": {
    "name": "ipython",
    "version": 3
   },
   "file_extension": ".py",
   "mimetype": "text/x-python",
   "name": "python",
   "nbconvert_exporter": "python",
   "pygments_lexer": "ipython3",
   "version": "3.6.9"
  }
 },
 "nbformat": 4,
 "nbformat_minor": 2
}
